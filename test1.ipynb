{
 "cells": [
  {
   "cell_type": "code",
   "execution_count": 1,
   "id": "bba2d5a6-fa11-4c2f-aa7f-0395efadbcb1",
   "metadata": {},
   "outputs": [
    {
     "name": "stdout",
     "output_type": "stream",
     "text": [
      "the sum is: 35\n"
     ]
    }
   ],
   "source": [
    "import numpy as np\n",
    "a=10\n",
    "b=25\n",
    "result=np.add(a,b)\n",
    "print(\"the sum is:\" , result)"
   ]
  },
  {
   "cell_type": "code",
   "execution_count": 2,
   "id": "21aea29f-1b8a-4979-b10b-9d2c830cc48b",
   "metadata": {},
   "outputs": [],
   "source": [
    "#using function"
   ]
  },
  {
   "cell_type": "code",
   "execution_count": 12,
   "id": "09565e8c-bc21-4e60-b9a1-227b12dae9a9",
   "metadata": {},
   "outputs": [
    {
     "name": "stdout",
     "output_type": "stream",
     "text": [
      "the sum of the 2 no is : 30\n"
     ]
    }
   ],
   "source": [
    "def add_numbers(a,b):\n",
    "   return a+b\n",
    "num1=10;\n",
    "num2=20;\n",
    "result=add_numbers(num1,num2)\n",
    "print(\"the sum of the 2 no is :\" , result)"
   ]
  },
  {
   "cell_type": "code",
   "execution_count": null,
   "id": "2c47c993-b315-46e9-b438-864a04c1a7bf",
   "metadata": {},
   "outputs": [],
   "source": []
  },
  {
   "cell_type": "code",
   "execution_count": null,
   "id": "78e2ac4c-04e0-4766-bfe9-c9424a73b7f6",
   "metadata": {},
   "outputs": [],
   "source": []
  }
 ],
 "metadata": {
  "kernelspec": {
   "display_name": "Python (myenv)",
   "language": "python",
   "name": "myenv"
  },
  "language_info": {
   "codemirror_mode": {
    "name": "ipython",
    "version": 3
   },
   "file_extension": ".py",
   "mimetype": "text/x-python",
   "name": "python",
   "nbconvert_exporter": "python",
   "pygments_lexer": "ipython3",
   "version": "3.12.4"
  }
 },
 "nbformat": 4,
 "nbformat_minor": 5
}
